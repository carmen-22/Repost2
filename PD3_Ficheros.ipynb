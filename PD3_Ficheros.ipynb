{
 "cells": [
  {
   "cell_type": "markdown",
   "metadata": {},
   "source": [
    "# <center>Ficheros</center>\n",
    "\n",
    "En informática, un archivo o fichero también es un conjunto de información que se almacena en forma virtual para ser leído y/o accedido por medio de una computadora.\n",
    "Las posibilidades de almacenamiento y clasificación son mucho más ricas en un sistema informático, ya que la información no ocupa un espacio físico y, por ende, es posible conservar millones de datos en un dispositivo muy pequeño. Inclusive, se puede guardar información de texto, audio o video en un mismo lugar sin inconveniente alguno. (fuente: web)\n",
    "\n",
    "\n",
    "# <u><p style=\"color:DarkRed;\">Mi primer Fichero</p></u>\n",
    "\n",
    "**<p style=\"color:DarkOrange;\">Extensiones de archivos</p>**\n",
    "  - .txt\n",
    "  - .exe\n",
    "  - .doc\n",
    "\n",
    "**_<p style=\"color:DarkBlue;\">fichero = f</p>_**\n",
    "\n",
    "1) abrir fichero  ---> open()\n",
    "\n",
    "   - escribrir (write): open ('---.txt',**'w'**)\n",
    "   - leer (read): open ('---.txt',**'r'**)\n",
    "   - agregar/adicionar (add) : open ('---.txt',**'a'**)\n",
    "   \n",
    "2) leer fichero  ----> f.read()\n",
    "\n",
    "\n",
    "3) cerrar fichero ---> f.close()\n",
    "\n",
    "4) Imprimir fichero ----> print()"
   ]
  },
  {
   "cell_type": "code",
   "execution_count": 9,
   "metadata": {},
   "outputs": [],
   "source": [
    "f = open('MP1.txt','w')\n",
    "frase= \"Hola mi nombre es: \\n Denise \\n Mucho gusto\"\n",
    "f.write(frase)\n",
    "f.close()"
   ]
  },
  {
   "cell_type": "code",
   "execution_count": 10,
   "metadata": {},
   "outputs": [
    {
     "name": "stdout",
     "output_type": "stream",
     "text": [
      "Hola mi nombre es: \n",
      " Denise \n",
      " Mucho gusto\n"
     ]
    }
   ],
   "source": [
    "f = open('MP1.txt','r')\n",
    "texto = f.read()\n",
    "f.close\n",
    "print(texto)"
   ]
  },
  {
   "cell_type": "code",
   "execution_count": 11,
   "metadata": {},
   "outputs": [
    {
     "name": "stdout",
     "output_type": "stream",
     "text": [
      "Hola mi nombre es: \n",
      " Denise \n",
      " Mucho gusto\n",
      " Que tenga un buen dia.\n"
     ]
    }
   ],
   "source": [
    "f = open('MP1.txt','a')\n",
    "f.write('\\n Que tenga un buen dia.')\n",
    "f.close()  \n",
    "f = open('MP1.txt','r')\n",
    "texto2= f.read()\n",
    "f.close()\n",
    "print(texto2)"
   ]
  },
  {
   "cell_type": "markdown",
   "metadata": {},
   "source": [
    "### Directorio de Trabajo:"
   ]
  },
  {
   "cell_type": "code",
   "execution_count": 12,
   "metadata": {},
   "outputs": [
    {
     "data": {
      "text/plain": [
       "'C:\\\\Users\\\\Denise\\\\Desktop\\\\UNALM\\\\Ciclo 2021\\\\Ciclo 2021 II\\\\1.LP II\\\\PD3_Markdown_Latex_Ficheros-20210530'"
      ]
     },
     "execution_count": 12,
     "metadata": {},
     "output_type": "execute_result"
    }
   ],
   "source": [
    "pwd()"
   ]
  },
  {
   "cell_type": "markdown",
   "metadata": {},
   "source": [
    "### Cambiar de directorio:  \n",
    "\n",
    "[guia](https://noviello.it/es/como-obtener-y-cambiar-el-directorio-de-trabajo-actual-en-python/)"
   ]
  },
  {
   "cell_type": "markdown",
   "metadata": {},
   "source": [
    "![](https://upload.wikimedia.org/wikipedia/commons/thumb/3/3a/Linear_regression.svg/200px-Linear_regression.svg.png)"
   ]
  },
  {
   "cell_type": "markdown",
   "metadata": {},
   "source": [
    "![](https://upload.wikimedia.org/wikipedia/commons/thumb/3/3a/Linear_regression.svg/300px-Linear_regression.svg.png)"
   ]
  },
  {
   "cell_type": "markdown",
   "metadata": {},
   "source": [
    "![](https://upload.wikimedia.org/wikipedia/commons/thumb/3/3a/Linear_regression.svg/350px-Linear_regression.svg.png)"
   ]
  },
  {
   "cell_type": "code",
   "execution_count": 31,
   "metadata": {},
   "outputs": [
    {
     "name": "stderr",
     "output_type": "stream",
     "text": [
      "\"[]\" no se reconoce como un comando interno o externo,\n",
      "programa o archivo por lotes ejecutable.\n"
     ]
    }
   ],
   "source": [
    "![](https://m.media-amazon.com/images/I/71myuXh28YL._AC_SX425_.jpg)"
   ]
  },
  {
   "cell_type": "code",
   "execution_count": null,
   "metadata": {},
   "outputs": [],
   "source": []
  }
 ],
 "metadata": {
  "kernelspec": {
   "display_name": "Python 3 (ipykernel)",
   "language": "python",
   "name": "python3"
  },
  "language_info": {
   "codemirror_mode": {
    "name": "ipython",
    "version": 3
   },
   "file_extension": ".py",
   "mimetype": "text/x-python",
   "name": "python",
   "nbconvert_exporter": "python",
   "pygments_lexer": "ipython3",
   "version": "3.9.7"
  }
 },
 "nbformat": 4,
 "nbformat_minor": 4
}
